{
 "cells": [
  {
   "cell_type": "markdown",
   "id": "a14a7bfc-17d3-4597-ad88-2efab3c41f24",
   "metadata": {},
   "source": [
    "# Prepare IPyKernel\n",
    "1. Open Termninal console in Jupyter\n",
    "2. Create the virtual env: ```python3 -m venv mykernel```\n",
    "3. Activate env: ```source envs/mykernel/bin/activate```\n",
    "4. Install ipykernel module: \n",
    "```cd envs/mykernel```\n",
    "```pip install ipykernel```\n",
    "5. Install / create new kernel\n",
    "```Documentation: https://ipython.readthedocs.io/en/stable/install/kernel_install.html```\n",
    "```python -m ipykernel install --user --name mykernel --display-name \"Python (mykernel)\"```\n",
    "6. Install Azure Storage Blob & Identity modules: ```pip install azure-storage-blob azure-identity```\n",
    "7. Switch to Notebook source and select new kernel"
   ]
  },
  {
   "cell_type": "markdown",
   "id": "457f5db9-b1b9-46df-824a-1beb89d89a64",
   "metadata": {
    "tags": []
   },
   "source": [
    "# Connect to Azure Blob Storage (applies to managed devices)\n",
    "1. Open Termninal console in Jupyter\n",
    "2. Execute: ```az login```\n",
    "3. Follow the on-screen instructions, sample:\n",
    "   To sign in, use a web browser to open the page https://microsoft.com/devicelogin and enter the code <code here> to authenticate.\n",
    "4. Retrieve access token: ```az account get-access-token --output json --resource https://management.core.windows.net```"
   ]
  },
  {
   "cell_type": "markdown",
   "id": "b7ed6d66-e6cc-47b7-990e-19c8e141306e",
   "metadata": {
    "tags": []
   },
   "source": [
    "# Connect to Azure Blob Storage (with client id & certificate)\n",
    "\n",
    "## Create Private key & SSL Certificate\n",
    "1. Open Termninal console in Jupyter (or locally if OpenSSL executable is available)\n",
    "2. Create private key: `openssl genrsa -out myapp_private.key 2048`\n",
    "    1. Provide private key password\n",
    "3. Create certificate signing request: `openssl req -new -key myapp_private.key -out myapp.csr`\n",
    "4. Provide certficate information:\n",
    "```\n",
    "       Country Name (2 letter code) [XX]:<your country>\n",
    "       State or Province Name (full name) []:<your state>\n",
    "       Locality Name (eg, city) [Default City]:<your city>\n",
    "       Organization Name (eg, company) [Default Company Ltd]:<your company name>\n",
    "       Organizational Unit Name (eg, section) []:<your section>\n",
    "       Common Name (eg, your name or your server's hostname) []:<your name, or team's name>\n",
    "       Email Address []:\n",
    "```\n",
    "5. Generate self-signed certificate: `openssl x509 -req -days 365 -in myapp.csr -signkey myapp_private.key -out myapp_certificate.crt`\n",
    "6. The .crt file can be handed over to Azure admins, to add it in coresponding App Registration / Certificates & Secrets \n",
    "\n",
    "## Export as PKCS12 (includes private key)\n",
    "1. Open Termninal console in Jupyter (or locally if OpenSSL executable is available)\n",
    "2. Execute: `openssl pkcs12 -export -out myapp_certificate.pfx -inkey myapp_private.key -in myapp_certificate.crt`\n",
    "    1. Provide certificate password, it is possible to leave password empty, however it is not recommended\n",
    "3. The .pfx file (and assigned password) will be used be the client script to access storage account\n",
    "\n",
    "## Azure Storage Account IAM roles:\n",
    "1. **Reader** - View all resources, but does not allow you to make any changes (not required)\n",
    "2. **Storage Blob Data Reader** - Allows for read access to Azure Storage blob containers and data\n"
   ]
  },
  {
   "cell_type": "code",
   "execution_count": 1,
   "id": "7d993116-56a0-4983-b7a1-e220b4413ff1",
   "metadata": {},
   "outputs": [],
   "source": [
    "account_identifier = \"storage-account-id\"\n",
    "tenant_id = \"<tenant-id>\"\n",
    "client_id = \"client-id\"\n",
    "cert_path = \"./certificate.pfx\"\n",
    "cert_password = \"<passwork>\"\n",
    "\n",
    "container_name = \"container001\"\n",
    "folder_path = \"Files/\"\n"
   ]
  },
  {
   "cell_type": "code",
   "execution_count": 4,
   "id": "67aef161-9708-4f32-b8ca-7ce0f6dc91d9",
   "metadata": {},
   "outputs": [
    {
     "name": "stdout",
     "output_type": "stream",
     "text": [
      "Azure Blob Storage connecting ...\n",
      "Azure Blob Storage connected\n",
      "\n",
      "Getting Blob Container ...\n",
      "\n",
      "Listing blobs...\n",
      "\tFiles/dataset1.csv\n",
      "\tFiles/dataset2.csv\n",
      "\tFiles/dataset3.csv\n",
      "Finished\n"
     ]
    }
   ],
   "source": [
    "import os, uuid\n",
    "from azure.identity import DefaultAzureCredential, CertificateCredential\n",
    "from azure.storage.blob import BlobServiceClient, BlobClient, ContainerClient\n",
    "\n",
    "try:\n",
    "    # If private endpoints are used, make sure no proxy server is used\n",
    "    #os.environ['no_proxy'] = os.environ['no_proxy'] + f',{account_identifier}.privatelink.blob.core.windows.net,{account_identifier}.blob.core.windows.net'\n",
    "    \n",
    "    print(\"Azure Blob Storage connecting ...\")\n",
    "    account_url = f\"https://{account_identifier}.blob.core.windows.net\"\n",
    "    # DefaultAzureCredential will use the credentials provided by 'az login' \n",
    "    #default_credential = DefaultAzureCredential()\n",
    "\n",
    "    cert_credential = CertificateCredential(\n",
    "       tenant_id=tenant_id,\n",
    "       client_id=client_id,\n",
    "       certificate_path=cert_path,\n",
    "       password=cert_password,\n",
    "    )\n",
    "\n",
    "    # Create the BlobServiceClient object\n",
    "    #blob_service_client = BlobServiceClient(account_url, credential='<storage account key>')\n",
    "    blob_service_client = BlobServiceClient(account_url, credential=cert_credential)\n",
    "    print(\"Azure Blob Storage connected\")\n",
    "\n",
    "    print(\"\\nGetting Blob Container ...\")\n",
    "   \n",
    "    # Get the container\n",
    "    container_client = blob_service_client.get_container_client(container_name)\n",
    "    \n",
    "    print(\"\\nListing blobs...\")\n",
    "    # List the blobs in the container\n",
    "    blob_list = container_client.list_blobs(name_starts_with=folder_path)\n",
    "    for blob in blob_list:\n",
    "        print(\"\\t\" + blob.name)\n",
    "\n",
    "except Exception as ex:\n",
    "    print('Exception:')\n",
    "    print(ex)\n",
    "    \n",
    "print(\"Finished\")    "
   ]
  },
  {
   "cell_type": "code",
   "execution_count": null,
   "id": "64097396-9c8a-4042-8d0b-b724da9821e0",
   "metadata": {},
   "outputs": [],
   "source": []
  }
 ],
 "metadata": {
  "kernelspec": {
   "display_name": "Python (mykernel)",
   "language": "python",
   "name": "mykernel"
  },
  "language_info": {
   "codemirror_mode": {
    "name": "ipython",
    "version": 3
   },
   "file_extension": ".py",
   "mimetype": "text/x-python",
   "name": "python",
   "nbconvert_exporter": "python",
   "pygments_lexer": "ipython3",
   "version": "3.8.10"
  }
 },
 "nbformat": 4,
 "nbformat_minor": 5
}
