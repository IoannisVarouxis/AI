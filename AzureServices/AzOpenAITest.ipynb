{
 "cells": [
  {
   "cell_type": "markdown",
   "id": "a14a7bfc-17d3-4597-ad88-2efab3c41f24",
   "metadata": {},
   "source": [
    "# Prepare IPyKernel\n",
    "1. Open Termninal console in Jupyter\n",
    "2. Create the virtual env: ```python3 -m venv mykernel```\n",
    "3. Activate env: ```source envs/mykernel/bin/activate```\n",
    "4. Install ipykernel module: \n",
    "```cd envs/mykernel```\n",
    "```pip install ipykernel```\n",
    "5. Install / create new kernel\n",
    "```Documentation: https://ipython.readthedocs.io/en/stable/install/kernel_install.html```\n",
    "```python -m ipykernel install --user --name mykernel --display-name \"Python (mykernel)\"```\n",
    "6. Install Azure OpeAI modules: ```pip install openai```\n",
    "7. Switch to Notebook source and select new kernel"
   ]
  },
  {
   "cell_type": "code",
   "execution_count": null,
   "id": "67aef161-9708-4f32-b8ca-7ce0f6dc91d9",
   "metadata": {},
   "outputs": [],
   "source": [
    "from openai import AzureOpenAI, OpenAI\n",
    "import logging\n",
    "import os\n",
    "\n",
    "try:\n",
    "    logging.getLogger(\"openai._base_client\").setLevel(logging.ERROR)\n",
    "    #OpenAI.log='debug'\n",
    "    \n",
    "    #logging.basicConfig(level=logging.DEBUG,\n",
    "    #                format='%(asctime)s - %(levelname)s - %(filename)s:%(funcName)s:%(lineno)d - %(message)s',\n",
    "    #                datefmt='%Y-%m-%d %H:%M:%S')\n",
    "    \n",
    "    model_name = \"<deployment-model-name>\"\n",
    "    url = \"https://<oai-service-name>.openai.azure.com\"\n",
    "    \n",
    "    # If private endpoints are used, make sure no proxy server is used\n",
    "    #os.environ['no_proxy'] = os.environ['no_proxy'] + f',{url}'\n",
    "        \n",
    "    client = AzureOpenAI(\n",
    "        api_key=\"<api-key>\",  \n",
    "        api_version=\"2023-12-01-preview\",\n",
    "        azure_endpoint=url\n",
    "    )\n",
    "    \n",
    "    #completion = client.completions.create(\n",
    "    #    model=model_name,\n",
    "    #    prompt=\"<prompt>\"\n",
    "    #)\n",
    "    #print(completion)\n",
    "    \n",
    "    chat_completion = client.chat.completions.create(\n",
    "        model=model_name,\n",
    "        messages=[\n",
    "            {\"role\":\"system\", \"content\": \"You are a helpful assistant.\"},\n",
    "            {\"role\":\"user\", \"content\": \"What is the capital of Greece?\"},\n",
    "        ]\n",
    "    )\n",
    "    print(chat_completion)\n",
    "    \n",
    "    #embedding = client.embeddings.create(\n",
    "    #    model=model_name,\n",
    "    #    input=\"<input>\"\n",
    "    #)\n",
    "\n",
    "except Exception as ex:\n",
    "    print('Exception:')\n",
    "    print(ex)\n",
    "    \n",
    "print(\"Finished\")    "
   ]
  },
  {
   "cell_type": "code",
   "execution_count": null,
   "id": "64097396-9c8a-4042-8d0b-b724da9821e0",
   "metadata": {},
   "outputs": [],
   "source": []
  }
 ],
 "metadata": {
  "kernelspec": {
   "display_name": "Python (mykernel)",
   "language": "python",
   "name": "mykernel"
  },
  "language_info": {
   "codemirror_mode": {
    "name": "ipython",
    "version": 3
   },
   "file_extension": ".py",
   "mimetype": "text/x-python",
   "name": "python",
   "nbconvert_exporter": "python",
   "pygments_lexer": "ipython3",
   "version": "3.8.10"
  }
 },
 "nbformat": 4,
 "nbformat_minor": 5
}
